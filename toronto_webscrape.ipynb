{
 "metadata": {
  "language_info": {
   "codemirror_mode": {
    "name": "ipython",
    "version": 3
   },
   "file_extension": ".py",
   "mimetype": "text/x-python",
   "name": "python",
   "nbconvert_exporter": "python",
   "pygments_lexer": "ipython3",
   "version": "3.9.2"
  },
  "orig_nbformat": 4,
  "kernelspec": {
   "name": "python3",
   "display_name": "Python 3.9.2 64-bit ('3.9.2': pyenv)"
  },
  "interpreter": {
   "hash": "4dd891b6da27ffc9295064f403ae74a1056f7965e269b75cf2bcdca234aa14ba"
  }
 },
 "nbformat": 4,
 "nbformat_minor": 2,
 "cells": [
  {
   "source": [
    "# Toronto neighborhood webscrape"
   ],
   "cell_type": "markdown",
   "metadata": {}
  },
  {
   "cell_type": "code",
   "execution_count": 1,
   "metadata": {},
   "outputs": [],
   "source": [
    "# Third party imports\n",
    "from bs4 import BeautifulSoup\n",
    "import numpy as np\n",
    "import pandas as pd\n",
    "import requests"
   ]
  },
  {
   "cell_type": "code",
   "execution_count": 65,
   "metadata": {},
   "outputs": [
    {
     "output_type": "stream",
     "name": "stdout",
     "text": [
      "200\n"
     ]
    }
   ],
   "source": [
    "# retrieve the appropriate web page\n",
    "response = requests.get(\n",
    "\turl=\"https://en.wikipedia.org/wiki/List_of_postal_codes_of_Canada:_M\",\n",
    ")\n",
    "print(response.status_code)"
   ]
  },
  {
   "cell_type": "code",
   "execution_count": 66,
   "metadata": {},
   "outputs": [
    {
     "output_type": "stream",
     "name": "stdout",
     "text": [
      "List of postal codes of Canada: M\n"
     ]
    }
   ],
   "source": [
    "# Use beautiful Soup to read the html\n",
    "soup = BeautifulSoup(response.content, 'html.parser')\n",
    "title = soup.find(id='firstHeading')\n",
    "print(title.string)"
   ]
  },
  {
   "cell_type": "code",
   "execution_count": 67,
   "metadata": {
    "tags": []
   },
   "outputs": [],
   "source": [
    "# Use beautiful soup to extract the table element and pass that into a list of values, ready to be turned into a dataframe\n",
    "table_contents = []\n",
    "table=soup.find('table')\n",
    "for row in table.findAll('td'):\n",
    "    cell = {}\n",
    "    if row.span.text=='Not assigned':\n",
    "        pass\n",
    "    else:\n",
    "        cell['PostalCode'] = row.p.text[:3]\n",
    "        cell['Borough'] = (row.span.text).split('(')[0]\n",
    "        cell['Neighborhood'] = (((((row.span.text).split('(')[1]).strip(')')).replace(' /',',')).replace(')',' ')).strip(' ')\n",
    "        table_contents.append(cell)"
   ]
  },
  {
   "cell_type": "code",
   "execution_count": 68,
   "metadata": {},
   "outputs": [],
   "source": [
    "# Pass values into a dataframe \n",
    "df=pd.DataFrame(table_contents)\n",
    "df['Borough']=df['Borough'].replace(\n",
    "    {\n",
    "        'Downtown TorontoStn A PO Boxes25 The Esplanade':'Downtown Toronto Stn A',\n",
    "        'East TorontoBusiness reply mail Processing Centre969 Eastern':'East Toronto Business',\n",
    "        'EtobicokeNorthwest':'Etobicoke Northwest','East YorkEast Toronto':'East York/East Toronto',\n",
    "        'MississaugaCanada Post Gateway Processing Centre':'Mississauga'\n",
    "    }\n",
    ")"
   ]
  },
  {
   "cell_type": "code",
   "execution_count": 69,
   "metadata": {},
   "outputs": [
    {
     "output_type": "execute_result",
     "data": {
      "text/plain": [
       "(103, 3)"
      ]
     },
     "metadata": {},
     "execution_count": 69
    }
   ],
   "source": [
    "df.shape"
   ]
  },
  {
   "cell_type": "code",
   "execution_count": 70,
   "metadata": {},
   "outputs": [
    {
     "output_type": "stream",
     "name": "stdout",
     "text": [
      "The dataframe has 15 boroughs and 103 neighborhoods.\n"
     ]
    }
   ],
   "source": [
    "print('The dataframe has {} boroughs and {} neighborhoods.'.format(\n",
    "    len(df['Borough'].unique()),\n",
    "        df.shape[0]\n",
    "    )\n",
    ")"
   ]
  },
  {
   "source": [
    "# Section 2"
   ],
   "cell_type": "markdown",
   "metadata": {}
  },
  {
   "cell_type": "code",
   "execution_count": 59,
   "metadata": {},
   "outputs": [],
   "source": [
    "import geocoder"
   ]
  },
  {
   "source": [
    "Using the google geocode option was returning an error with <REQUEST DENIED>. I therefore switched to arcgis. "
   ],
   "cell_type": "markdown",
   "metadata": {}
  },
  {
   "cell_type": "code",
   "execution_count": 82,
   "metadata": {},
   "outputs": [
    {
     "output_type": "stream",
     "name": "stdout",
     "text": [
      "['M3A', 43.75245, 43.75245]\n",
      "['M4A', 43.73057, 43.73057]\n",
      "['M5A', 43.65512, 43.65512]\n",
      "['M6A', 43.72327, 43.72327]\n",
      "['M7A', 43.66253, 43.66253]\n",
      "['M9A', 43.66263, 43.66263]\n",
      "['M1B', 43.81139, 43.81139]\n",
      "['M3B', 43.74923, 43.74923]\n",
      "['M4B', 43.70718, 43.70718]\n",
      "['M5B', 43.65739, 43.65739]\n",
      "['M6B', 43.70687, 43.70687]\n",
      "['M9B', 43.65034, 43.65034]\n",
      "['M1C', 43.78574, 43.78574]\n",
      "['M3C', 43.72168, 43.72168]\n",
      "['M4C', 43.6897, 43.6897]\n",
      "['M5C', 43.65215, 43.65215]\n",
      "['M6C', 43.69211, 43.69211]\n",
      "['M9C', 43.64857, 43.64857]\n",
      "['M1E', 43.76575, 43.76575]\n",
      "['M4E', 43.67709, 43.67709]\n",
      "['M5E', 43.64536, 43.64536]\n",
      "['M6E', 43.68784, 43.68784]\n",
      "['M1G', 43.76812, 43.76812]\n",
      "['M4G', 43.70902, 43.70902]\n",
      "['M5G', 43.65609, 43.65609]\n",
      "['M6G', 43.66869, 43.66869]\n",
      "['M1H', 43.76944, 43.76944]\n",
      "['M2H', 43.80225, 43.80225]\n",
      "['M3H', 43.75788, 43.75788]\n",
      "['M4H', 43.70142, 43.70142]\n",
      "['M5H', 43.6497, 43.6497]\n",
      "['M6H', 43.66505, 43.66505]\n",
      "['M1J', 43.74446, 43.74446]\n",
      "['M2J', 43.78097, 43.78097]\n",
      "['M3J', 43.76476, 43.76476]\n",
      "['M4J', 43.68811, 43.68811]\n",
      "['M5J', 43.64285, 43.64285]\n",
      "['M6J', 43.64848, 43.64848]\n",
      "['M1K', 43.72582, 43.72582]\n",
      "['M2K', 43.78112, 43.78112]\n",
      "['M3K', 43.73384, 43.73384]\n",
      "['M4K', 43.68375, 43.68375]\n",
      "['M5K', 43.6471, 43.6471]\n",
      "['M6K', 43.63941, 43.63941]\n",
      "['M1L', 43.71289, 43.71289]\n",
      "['M2L', 43.75698, 43.75698]\n",
      "['M3L', 43.72071, 43.72071]\n",
      "['M4L', 43.66797, 43.66797]\n",
      "['M5L', 43.6484, 43.6484]\n",
      "['M6L', 43.71381, 43.71381]\n",
      "['M9L', 43.75948, 43.75948]\n",
      "['M1M', 43.7236, 43.7236]\n",
      "['M2M', 43.79182, 43.79182]\n",
      "['M3M', 43.73224, 43.73224]\n",
      "['M4M', 43.66213, 43.66213]\n",
      "['M5M', 43.73545, 43.73545]\n",
      "['M6M', 43.69517, 43.69517]\n",
      "['M9M', 43.73367, 43.73367]\n",
      "['M1N', 43.6951, 43.6951]\n",
      "['M2N', 43.76774, 43.76774]\n",
      "['M3N', 43.75478, 43.75478]\n",
      "['M4N', 43.72843, 43.72843]\n",
      "['M5N', 43.71208, 43.71208]\n",
      "['M6N', 43.67646, 43.67646]\n",
      "['M9N', 43.70507, 43.70507]\n",
      "['M1P', 43.75998, 43.75998]\n",
      "['M2P', 43.74778, 43.74778]\n",
      "['M4P', 43.71276, 43.71276]\n",
      "['M5P', 43.69479, 43.69479]\n",
      "['M6P', 43.65973, 43.65973]\n",
      "['M9P', 43.6963, 43.6963]\n",
      "['M1R', 43.75075, 43.75075]\n",
      "['M2R', 43.77989, 43.77989]\n",
      "['M4R', 43.71458, 43.71458]\n",
      "['M5R', 43.67484, 43.67484]\n",
      "['M6R', 43.64777, 43.64777]\n",
      "['M7R', 43.64869, 43.64869]\n",
      "['M9R', 43.68681, 43.68681]\n",
      "['M1S', 43.79452, 43.79452]\n",
      "['M4S', 43.7034, 43.7034]\n",
      "['M5S', 43.66311, 43.66311]\n",
      "['M6S', 43.64982, 43.64982]\n",
      "['M1T', 43.78491, 43.78491]\n",
      "['M4T', 43.69048, 43.69048]\n",
      "['M5T', 43.65351, 43.65351]\n",
      "['M1V', 43.81781, 43.81781]\n",
      "['M4V', 43.68568, 43.68568]\n",
      "['M5V', 43.64082, 43.64082]\n",
      "['M8V', 43.60987, 43.60987]\n",
      "['M9V', 43.74453, 43.74453]\n",
      "['M1W', 43.80079, 43.80079]\n",
      "['M4W', 43.6819, 43.6819]\n",
      "['M5W', 43.64869, 43.64869]\n",
      "['M8W', 43.60124, 43.60124]\n",
      "['M9W', 43.71174, 43.71174]\n",
      "['M1X', 43.83412, 43.83412]\n",
      "['M4X', 43.66788, 43.66788]\n",
      "['M5X', 43.64828, 43.64828]\n",
      "['M8X', 43.65319, 43.65319]\n",
      "['M4Y', 43.66659, 43.66659]\n",
      "['M7Y', 43.64869, 43.64869]\n",
      "['M8Y', 43.63278, 43.63278]\n",
      "['M8Z', 43.62513, 43.62513]\n"
     ]
    }
   ],
   "source": [
    "for i, row in df.iterrows():\n",
    "    code = row.PostalCode\n",
    "    df['Latitude'].loc[df.PostalCode==code]= round(geocoder.arcgis(f'{code}, Toronto, Ontario').latlng[0], 5)\n",
    "    df['Longitude'].loc[df.PostalCode==code]= round(geocoder.arcgis(f'{code}, Toronto, Ontario').latlng[0], 5)"
   ]
  },
  {
   "cell_type": "code",
   "execution_count": 83,
   "metadata": {},
   "outputs": [
    {
     "output_type": "execute_result",
     "data": {
      "text/plain": [
       "  PostalCode           Borough                      Neighborhood  Latitude  \\\n",
       "0        M3A        North York                         Parkwoods  43.75245   \n",
       "1        M4A        North York                  Victoria Village  43.73057   \n",
       "2        M5A  Downtown Toronto         Regent Park, Harbourfront  43.65512   \n",
       "3        M6A        North York  Lawrence Manor, Lawrence Heights  43.72327   \n",
       "4        M7A      Queen's Park     Ontario Provincial Government  43.66253   \n",
       "\n",
       "   Longitude  \n",
       "0  -79.32991  \n",
       "1  -79.31306  \n",
       "2  -79.36264  \n",
       "3  -79.45042  \n",
       "4  -79.39188  "
      ],
      "text/html": "<div>\n<style scoped>\n    .dataframe tbody tr th:only-of-type {\n        vertical-align: middle;\n    }\n\n    .dataframe tbody tr th {\n        vertical-align: top;\n    }\n\n    .dataframe thead th {\n        text-align: right;\n    }\n</style>\n<table border=\"1\" class=\"dataframe\">\n  <thead>\n    <tr style=\"text-align: right;\">\n      <th></th>\n      <th>PostalCode</th>\n      <th>Borough</th>\n      <th>Neighborhood</th>\n      <th>Latitude</th>\n      <th>Longitude</th>\n    </tr>\n  </thead>\n  <tbody>\n    <tr>\n      <th>0</th>\n      <td>M3A</td>\n      <td>North York</td>\n      <td>Parkwoods</td>\n      <td>43.75245</td>\n      <td>-79.32991</td>\n    </tr>\n    <tr>\n      <th>1</th>\n      <td>M4A</td>\n      <td>North York</td>\n      <td>Victoria Village</td>\n      <td>43.73057</td>\n      <td>-79.31306</td>\n    </tr>\n    <tr>\n      <th>2</th>\n      <td>M5A</td>\n      <td>Downtown Toronto</td>\n      <td>Regent Park, Harbourfront</td>\n      <td>43.65512</td>\n      <td>-79.36264</td>\n    </tr>\n    <tr>\n      <th>3</th>\n      <td>M6A</td>\n      <td>North York</td>\n      <td>Lawrence Manor, Lawrence Heights</td>\n      <td>43.72327</td>\n      <td>-79.45042</td>\n    </tr>\n    <tr>\n      <th>4</th>\n      <td>M7A</td>\n      <td>Queen's Park</td>\n      <td>Ontario Provincial Government</td>\n      <td>43.66253</td>\n      <td>-79.39188</td>\n    </tr>\n  </tbody>\n</table>\n</div>"
     },
     "metadata": {},
     "execution_count": 83
    }
   ],
   "source": [
    "df.head()"
   ]
  },
  {
   "cell_type": "code",
   "execution_count": null,
   "metadata": {},
   "outputs": [],
   "source": []
  }
 ]
}