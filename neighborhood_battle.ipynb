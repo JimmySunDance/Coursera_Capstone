{
 "metadata": {
  "language_info": {
   "codemirror_mode": {
    "name": "ipython",
    "version": 3
   },
   "file_extension": ".py",
   "mimetype": "text/x-python",
   "name": "python",
   "nbconvert_exporter": "python",
   "pygments_lexer": "ipython3",
   "version": "3.9.2"
  },
  "orig_nbformat": 4,
  "kernelspec": {
   "name": "python3",
   "display_name": "Python 3.9.2 64-bit ('3.9.2': pyenv)"
  },
  "interpreter": {
   "hash": "4dd891b6da27ffc9295064f403ae74a1056f7965e269b75cf2bcdca234aa14ba"
  }
 },
 "nbformat": 4,
 "nbformat_minor": 2,
 "cells": [
  {
   "source": [
    "# Capstone Project - Battle Of The London Boroughs\n",
    "## Where do I move next?"
   ],
   "cell_type": "markdown",
   "metadata": {}
  },
  {
   "source": [
    "## Intorduction\n",
    "This report is the final submission to the IBM Data Science Professional Certification Coursera course. Its aim is to demonstrate how today's data scientists can utilise the free APIs and open-source machine learning libraries to provide meaningful insights buisnes insights."
   ],
   "cell_type": "markdown",
   "metadata": {}
  },
  {
   "source": [
    "## The problem to solve\n",
    "An estate agency company has approached me. They wish to provide their customers with peace of mind that the area they are moving to is precisely what they are looking for. Using the machine learning techniques I have learned throughout this course, I will analyse a number of London Boroughs to identify the similarities and differences between potential places to live. The agency will then be able to tell their customers if the area they are moving to is anything like where they are coming from or whether it is an entirely different vibe. \n"
   ],
   "cell_type": "markdown",
   "metadata": {}
  },
  {
   "source": [
    "## The Data\n",
    "This project will utilise a number of data sources:\n",
    "<ul>\n",
    "    <li> The arcgis API for python </li>\n",
    "    <li> The Foursquare API </li>\n",
    "    <li> Postcodes.io API </li>\n",
    "</ul>\n"
   ],
   "cell_type": "markdown",
   "metadata": {}
  },
  {
   "source": [
    "### Geocoder Library and ArcGIS\n",
    "The ArcGIS and Geocoder libraries can be used togeher to retrieve geographical data for specific addresses. <br>\n",
    "Link: https://developers.arcgis.com"
   ],
   "cell_type": "markdown",
   "metadata": {}
  },
  {
   "cell_type": "code",
   "execution_count": 3,
   "metadata": {},
   "outputs": [],
   "source": [
    "import geocoder"
   ]
  },
  {
   "cell_type": "code",
   "execution_count": 16,
   "metadata": {},
   "outputs": [
    {
     "output_type": "execute_result",
     "data": {
      "text/plain": [
       "{'type': 'FeatureCollection',\n",
       " 'features': [{'type': 'Feature',\n",
       "   'properties': {'address': 'TW11 0LW',\n",
       "    'bbox': [-0.34182997606174104,\n",
       "     51.42260001403074,\n",
       "     -0.33982997606174103,\n",
       "     51.42460001403074],\n",
       "    'confidence': 9,\n",
       "    'lat': 51.42360001403074,\n",
       "    'lng': -0.34082997606174104,\n",
       "    'ok': True,\n",
       "    'quality': 'PostalExt',\n",
       "    'raw': {'name': 'TW11 0LW',\n",
       "     'extent': {'xmin': -0.34182997606174104,\n",
       "      'ymin': 51.42260001403074,\n",
       "      'xmax': -0.33982997606174103,\n",
       "      'ymax': 51.42460001403074},\n",
       "     'feature': {'geometry': {'x': -0.34082997606174104,\n",
       "       'y': 51.42360001403074},\n",
       "      'attributes': {'Score': 100, 'Addr_Type': 'PostalExt'}}},\n",
       "    'score': 100,\n",
       "    'status': 'OK'},\n",
       "   'bbox': [-0.34182997606174104,\n",
       "    51.42260001403074,\n",
       "    -0.33982997606174103,\n",
       "    51.42460001403074],\n",
       "   'geometry': {'type': 'Point',\n",
       "    'coordinates': [-0.34082997606174104, 51.42360001403074]}}]}"
      ]
     },
     "metadata": {},
     "execution_count": 16
    }
   ],
   "source": [
    "# National Physics Laboratory - Teddington, London\n",
    "npl_geoData = geocoder.arcgis('TW11 0LW')\n",
    "npl_geoData.geojson"
   ]
  },
  {
   "source": [
    "### Forsquare API\n",
    "The Forsquare API can be utilised to return venues and locations within a given radious of a specific point. <br>\n",
    "Link: https://foursquare.com"
   ],
   "cell_type": "markdown",
   "metadata": {}
  },
  {
   "cell_type": "code",
   "execution_count": 21,
   "metadata": {},
   "outputs": [],
   "source": [
    "import requests\n",
    "from dotenv import dotenv_values\n",
    "\n",
    "config = dotenv_values('.env')\n",
    "\n",
    "four_id = config['CLIENT_ID']\n",
    "four_sc = config['CLIENT_SECRET']"
   ]
  },
  {
   "cell_type": "code",
   "execution_count": 22,
   "metadata": {},
   "outputs": [],
   "source": [
    "url = 'https://api.foursquare.com/v2/venues/explore?&client_id={}&client_secret={}&v={}&ll={},{}&radius={}&limit={}'.format(\n",
    "    four_id, \n",
    "    four_sc, \n",
    "    20120609,\n",
    "    npl_geoData.lat, \n",
    "    npl_geoData.lng,\n",
    "    # Search radious 100m\n",
    "    100, \n",
    "    # Top 100 results\n",
    "    100)\n",
    "\n",
    "results = requests.get(url).json()"
   ]
  },
  {
   "cell_type": "code",
   "execution_count": 34,
   "metadata": {},
   "outputs": [
    {
     "output_type": "execute_result",
     "data": {
      "text/plain": [
       "{'warning': {'text': \"There aren't a lot of results near you. Try something more general, reset your filters, or expand the search area.\"},\n",
       " 'headerLocation': 'Teddington',\n",
       " 'headerFullLocation': 'Teddington, London',\n",
       " 'headerLocationGranularity': 'neighborhood',\n",
       " 'totalResults': 1,\n",
       " 'suggestedBounds': {'ne': {'lat': 51.42450001493074,\n",
       "   'lng': -0.3393893385939807},\n",
       "  'sw': {'lat': 51.422700013130736, 'lng': -0.3422706135295014}},\n",
       " 'groups': [{'type': 'Recommended Places',\n",
       "   'name': 'recommended',\n",
       "   'items': [{'reasons': {'count': 0,\n",
       "      'items': [{'summary': 'This spot is popular',\n",
       "        'type': 'general',\n",
       "        'reasonName': 'globalInteractionReason'}]},\n",
       "     'venue': {'id': '59da11ce9b04736749c52a90',\n",
       "      'name': 'Rich Coffee Company',\n",
       "      'contact': {},\n",
       "      'location': {'lat': 51.42363841432043,\n",
       "       'lng': -0.3407308309310047,\n",
       "       'labeledLatLngs': [{'label': 'display',\n",
       "         'lat': 51.42363841432043,\n",
       "         'lng': -0.3407308309310047}],\n",
       "       'distance': 8,\n",
       "       'postalCode': 'TW11 0LR',\n",
       "       'cc': 'GB',\n",
       "       'city': 'Teddington',\n",
       "       'state': 'Greater London',\n",
       "       'country': 'United Kingdom',\n",
       "       'formattedAddress': ['Teddington',\n",
       "        'Greater London',\n",
       "        'TW11 0LR',\n",
       "        'United Kingdom']},\n",
       "      'categories': [{'id': '4bf58dd8d48988d1cb941735',\n",
       "        'name': 'Food Truck',\n",
       "        'pluralName': 'Food Trucks',\n",
       "        'shortName': 'Food Truck',\n",
       "        'icon': {'prefix': 'https://ss3.4sqi.net/img/categories_v2/food/streetfood_',\n",
       "         'suffix': '.png'},\n",
       "        'primary': True}],\n",
       "      'verified': False,\n",
       "      'stats': {'tipCount': 0,\n",
       "       'usersCount': 0,\n",
       "       'checkinsCount': 0,\n",
       "       'visitsCount': 0},\n",
       "      'beenHere': {'count': 0,\n",
       "       'lastCheckinExpiredAt': 0,\n",
       "       'marked': False,\n",
       "       'unconfirmedCount': 0},\n",
       "      'photos': {'count': 0, 'groups': []},\n",
       "      'hereNow': {'count': 0, 'summary': 'Nobody here', 'groups': []}},\n",
       "     'referralId': 'e-0-59da11ce9b04736749c52a90-0'}]}]}"
      ]
     },
     "metadata": {},
     "execution_count": 34
    }
   ],
   "source": [
    "# Here we see that there aren't many (1) locations of interest within 100m of the National Physics Laboratory \n",
    "results['response']"
   ]
  },
  {
   "source": [
    "### Postcode.io API\n",
    "The postcode API allows users to send request based on the latitude and longitude or postcode of a location and retrieve information for that area. <br>\n",
    "Link: https://postcodes.io"
   ],
   "cell_type": "markdown",
   "metadata": {}
  },
  {
   "cell_type": "code",
   "execution_count": 47,
   "metadata": {},
   "outputs": [
    {
     "output_type": "execute_result",
     "data": {
      "text/plain": [
       "{'postcode': 'TW11 0LW',\n",
       " 'quality': 1,\n",
       " 'eastings': 515458,\n",
       " 'northings': 170734,\n",
       " 'country': 'England',\n",
       " 'nhs_ha': 'London',\n",
       " 'longitude': -0.340797,\n",
       " 'latitude': 51.423865,\n",
       " 'european_electoral_region': 'London',\n",
       " 'primary_care_trust': 'Richmond and Twickenham',\n",
       " 'region': 'London',\n",
       " 'lsoa': 'Richmond upon Thames 021C',\n",
       " 'msoa': 'Richmond upon Thames 021',\n",
       " 'incode': '0LW',\n",
       " 'outcode': 'TW11',\n",
       " 'parliamentary_constituency': 'Twickenham',\n",
       " 'admin_district': 'Richmond upon Thames',\n",
       " 'parish': 'Richmond upon Thames, unparished area',\n",
       " 'admin_county': None,\n",
       " 'admin_ward': 'Teddington',\n",
       " 'ced': None,\n",
       " 'ccg': 'NHS South West London',\n",
       " 'nuts': 'Hounslow and Richmond upon Thames',\n",
       " 'codes': {'admin_district': 'E09000027',\n",
       "  'admin_county': 'E99999999',\n",
       "  'admin_ward': 'E05000530',\n",
       "  'parish': 'E43000217',\n",
       "  'parliamentary_constituency': 'E14001005',\n",
       "  'ccg': 'E38000245',\n",
       "  'ccg_id': '36L',\n",
       "  'ced': 'E99999999',\n",
       "  'nuts': 'UKI75',\n",
       "  'lsoa': 'E01003888',\n",
       "  'msoa': 'E02000804',\n",
       "  'lau2': 'E05000530'},\n",
       " 'distance': 29.57047102}"
      ]
     },
     "metadata": {},
     "execution_count": 47
    }
   ],
   "source": [
    "url_codes = 'https://api.postcodes.io/postcodes?lon={}&lat={}'.format(\n",
    "    npl_geoData.lng, \n",
    "    npl_geoData.lat\n",
    ")\n",
    "\n",
    "codes = requests.get(url_codes).json()\n",
    "codes['result'][0]"
   ]
  },
  {
   "cell_type": "code",
   "execution_count": null,
   "metadata": {},
   "outputs": [],
   "source": []
  }
 ]
}