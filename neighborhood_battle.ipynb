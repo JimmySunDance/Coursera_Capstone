{
 "metadata": {
  "language_info": {
   "codemirror_mode": {
    "name": "ipython",
    "version": 3
   },
   "file_extension": ".py",
   "mimetype": "text/x-python",
   "name": "python",
   "nbconvert_exporter": "python",
   "pygments_lexer": "ipython3",
   "version": "3.9.2"
  },
  "orig_nbformat": 4,
  "kernelspec": {
   "name": "python3",
   "display_name": "Python 3.9.2 64-bit ('3.9.2': pyenv)"
  },
  "interpreter": {
   "hash": "4dd891b6da27ffc9295064f403ae74a1056f7965e269b75cf2bcdca234aa14ba"
  }
 },
 "nbformat": 4,
 "nbformat_minor": 2,
 "cells": [
  {
   "source": [
    "# Capstone Project - Battle Of The London Boroughs\n",
    "## Where do I move next?"
   ],
   "cell_type": "markdown",
   "metadata": {}
  },
  {
   "source": [
    "## Intorduction\n",
    "This project aims to demonstrate how today's data scientists can utilise the free Foursquare API alongside open-source machine learning libraries to provide meaningful insights into various geographical regions."
   ],
   "cell_type": "markdown",
   "metadata": {}
  },
  {
   "source": [
    "## The problem to solve\n",
    "Moving house is an incredibly formidable task, often coming hand in hand with arriving in a completely alien area. You may arrive at a new home only to discover that the local park is nothing like the old park that you loved, your favourite type of restaurant is hard to come by and your \"local\" coffee shop is still a bus ride away. \n",
    "As a data scientist, this step into the unknown need not be so daunting. \n",
    "\n",
    "Using the Foursquare API,  ArcGIS API, the geocoder library, and various open data sources found online, I will analyse various London boroughs to find those areas most similar to Teddington.\n"
   ],
   "cell_type": "markdown",
   "metadata": {}
  },
  {
   "source": [
    "## The Data\n",
    "This project will utilise a number of data sources:\n",
    "<ul>\n",
    "    <li> The arcgis API for python </li>\n",
    "    <li> The Foursquare API </li>\n",
    "    <li> The London Boroughs Wikipidia page - https://en.wikipedia.org/wiki/London_boroughs </li>\n",
    "</ul>\n"
   ],
   "cell_type": "markdown",
   "metadata": {}
  },
  {
   "cell_type": "code",
   "execution_count": null,
   "metadata": {},
   "outputs": [],
   "source": []
  }
 ]
}